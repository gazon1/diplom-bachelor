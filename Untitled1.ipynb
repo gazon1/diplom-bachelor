{
 "cells": [
  {
   "cell_type": "code",
   "execution_count": 10,
   "metadata": {},
   "outputs": [
    {
     "name": "stdout",
     "output_type": "stream",
     "text": [
      "1\n",
      "12 1 2 3\n",
      "1\n"
     ]
    }
   ],
   "source": [
    "def sol(l:list):\n",
    "    pos, neg, z = 0, 0, 0\n",
    "    for i in l:\n",
    "        if i > 0:\n",
    "            pos += 1\n",
    "        elif i == 0:\n",
    "            z += 1\n",
    "        else:\n",
    "            neg += 1\n",
    "    \n",
    "    N = math.ceil(len(l) / 2)\n",
    "    if pos >= N:\n",
    "        return 1\n",
    "    elif neg >= N:\n",
    "        return -1\n",
    "    else:\n",
    "        return 0\n",
    "    \n",
    "if __name__ == \"__main__\":\n",
    "    N = [int(x) for x in input().split()][0]\n",
    "    ar = [int(x) for x in input().split()]\n",
    "    print(sol(ar))"
   ]
  },
  {
   "cell_type": "code",
   "execution_count": 8,
   "metadata": {},
   "outputs": [
    {
     "name": "stdout",
     "output_type": "stream",
     "text": [
      "1\n",
      "1\n",
      "1 2 3 4\n",
      "[1, 2, 3, 4]\n"
     ]
    }
   ],
   "source": [
    "N = [int(x) for x in input().split()][0]\n",
    "print(N)\n",
    "ar = [int(x) for x in input().split()]\n",
    "print(ar)"
   ]
  },
  {
   "cell_type": "code",
   "execution_count": 6,
   "metadata": {},
   "outputs": [
    {
     "name": "stdout",
     "output_type": "stream",
     "text": [
      "1 2 3 4\n",
      "[1, 2, 3, 4]\n"
     ]
    }
   ],
   "source": [
    "ar = [int(x) for x in input().split()]\n",
    "print(ar)"
   ]
  },
  {
   "cell_type": "code",
   "execution_count": 1,
   "metadata": {},
   "outputs": [
    {
     "data": {
      "text/plain": [
       "4"
      ]
     },
     "execution_count": 1,
     "metadata": {},
     "output_type": "execute_result"
    }
   ],
   "source": [
    "import math\n",
    "math.ceil(3.14)"
   ]
  }
 ],
 "metadata": {
  "kernelspec": {
   "display_name": "Python 3",
   "language": "python",
   "name": "python3"
  },
  "language_info": {
   "codemirror_mode": {
    "name": "ipython",
    "version": 3
   },
   "file_extension": ".py",
   "mimetype": "text/x-python",
   "name": "python",
   "nbconvert_exporter": "python",
   "pygments_lexer": "ipython3",
   "version": "3.6.7"
  }
 },
 "nbformat": 4,
 "nbformat_minor": 2
}
